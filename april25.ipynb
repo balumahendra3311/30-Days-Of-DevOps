{
  "nbformat": 4,
  "nbformat_minor": 0,
  "metadata": {
    "colab": {
      "provenance": [],
      "include_colab_link": true
    },
    "kernelspec": {
      "name": "python3",
      "display_name": "Python 3"
    },
    "language_info": {
      "name": "python"
    }
  },
  "cells": [
    {
      "cell_type": "markdown",
      "metadata": {
        "id": "view-in-github",
        "colab_type": "text"
      },
      "source": [
        "<a href=\"https://colab.research.google.com/github/balumahendra3311/30-Days-Of-DevOps/blob/main/april25.ipynb\" target=\"_parent\"><img src=\"https://colab.research.google.com/assets/colab-badge.svg\" alt=\"Open In Colab\"/></a>"
      ]
    },
    {
      "cell_type": "markdown",
      "source": [
        "\n",
        "### fix the above code to make it work as shown below\n",
        "```python\n",
        "even_numbers(10,20)\n",
        "[10,12,14,16,18]\n",
        "```"
      ],
      "metadata": {
        "id": "Xim1lRs2Y1rV"
      }
    },
    {
      "cell_type": "code",
      "execution_count": null,
      "metadata": {
        "id": "nG0_ApEAXnil"
      },
      "outputs": [],
      "source": [
        "def is_even(number):\n",
        "  if number <= 0:\n",
        "    return False\n",
        "  return number %2 == 0\n",
        "\n",
        "def even_numbers(start, end):\n",
        "  numbers = list(range(start, end))\n",
        "  even_numbers = []\n",
        "  for number in numbers:\n",
        "    if is_even(number):\n",
        "      even_numbers.append(number)\n",
        "  return even_numbers"
      ]
    },
    {
      "cell_type": "code",
      "source": [
        "even_numbers(10,20)"
      ],
      "metadata": {
        "colab": {
          "base_uri": "https://localhost:8080/"
        },
        "id": "Yk46tlf1blT9",
        "outputId": "dcac06af-2be7-4ab3-b5e2-d202d888a859"
      },
      "execution_count": null,
      "outputs": [
        {
          "output_type": "execute_result",
          "data": {
            "text/plain": [
              "[10, 12, 14, 16, 18]"
            ]
          },
          "metadata": {},
          "execution_count": 8
        }
      ]
    },
    {
      "cell_type": "code",
      "source": [
        "# filters\n",
        "\n",
        "list(filter(is_even, range(10, 20)))"
      ],
      "metadata": {
        "id": "dH00koB9b4hj",
        "colab": {
          "base_uri": "https://localhost:8080/"
        },
        "outputId": "00b3ec99-48e4-411e-eff0-61562f33ac38"
      },
      "execution_count": null,
      "outputs": [
        {
          "output_type": "execute_result",
          "data": {
            "text/plain": [
              "[10, 12, 14, 16, 18]"
            ]
          },
          "metadata": {},
          "execution_count": 10
        }
      ]
    },
    {
      "cell_type": "code",
      "source": [
        "def square(number):\n",
        "  return number * number\n",
        "\n",
        "numbers = [10,11,12]\n",
        "print(list(map(square, numbers)))"
      ],
      "metadata": {
        "colab": {
          "base_uri": "https://localhost:8080/"
        },
        "id": "9tk-goI-c3ba",
        "outputId": "5986f592-a6c8-47bc-b075-adbc97ca063e"
      },
      "execution_count": null,
      "outputs": [
        {
          "output_type": "stream",
          "name": "stdout",
          "text": [
            "[100, 121, 144]\n"
          ]
        }
      ]
    },
    {
      "cell_type": "code",
      "source": [
        "numbers = list(range(10,20))\n",
        "even_numbers = [number for number in numbers if number%2 == 0 ]\n",
        "print(even_numbers)"
      ],
      "metadata": {
        "colab": {
          "base_uri": "https://localhost:8080/"
        },
        "id": "e8PyUmvsd4nC",
        "outputId": "3573fe32-522e-4757-b4cd-2c942452d5ba"
      },
      "execution_count": null,
      "outputs": [
        {
          "output_type": "stream",
          "name": "stdout",
          "text": [
            "[10, 12, 14, 16, 18]\n"
          ]
        }
      ]
    },
    {
      "cell_type": "code",
      "source": [
        "numbers = range(10,20)\n",
        "[number*number for number in numbers if number %2 == 0]"
      ],
      "metadata": {
        "colab": {
          "base_uri": "https://localhost:8080/"
        },
        "id": "NoZ8Kboceaji",
        "outputId": "33af4bc2-6f46-4902-f790-e15e24e25513"
      },
      "execution_count": null,
      "outputs": [
        {
          "output_type": "execute_result",
          "data": {
            "text/plain": [
              "[100, 144, 196, 256, 324]"
            ]
          },
          "metadata": {},
          "execution_count": 16
        }
      ]
    },
    {
      "cell_type": "markdown",
      "source": [
        "print all the cities starting with vowels"
      ],
      "metadata": {
        "id": "CpTzFI9bfF3D"
      }
    },
    {
      "cell_type": "code",
      "source": [
        "city_names = [\"Aberdeen\", \"Abilene\", \"Akron\", \"Albany\", \"Albuquerque\", \"Alexandria\", \"Allentown\", \"Amarillo\", \"Anaheim\", \"Anchorage\", \"Ann Arbor\", \"Antioch\", \"Apple Valley\", \"Appleton\", \"Arlington\", \"Arvada\", \"Asheville\", \"Athens\", \"Atlanta\", \"Atlantic City\", \"Augusta\", \"Aurora\", \"Austin\", \"Bakersfield\", \"Baltimore\", \"Barnstable\", \"Baton Rouge\", \"Beaumont\", \"Bel Air\", \"Bellevue\", \"Berkeley\", \"Bethlehem\", \"Billings\", \"Birmingham\", \"Bloomington\", \"Boise\", \"Boise City\", \"Bonita Springs\", \"Boston\", \"Boulder\", \"Bradenton\", \"Bremerton\", \"Bridgeport\", \"Brighton\", \"Brownsville\", \"Bryan\", \"Buffalo\", \"Burbank\", \"Burlington\", \"Cambridge\", \"Canton\", \"Cape Coral\", \"Carrollton\", \"Cary\", \"Cathedral City\", \"Cedar Rapids\", \"Champaign\", \"Chandler\", \"Charleston\", \"Charlotte\", \"Chattanooga\", \"Chesapeake\", \"Chicago\", \"Chula Vista\", \"Cincinnati\", \"Clarke County\", \"Clarksville\", \"Clearwater\", \"Cleveland\", \"College Station\", \"Colorado Springs\", \"Columbia\", \"Columbus\", \"Concord\", \"Coral Springs\", \"Corona\", \"Corpus Christi\", \"Costa Mesa\", \"Dallas\", \"Daly City\", \"Danbury\", \"Davenport\", \"Davidson County\", \"Dayton\", \"Daytona Beach\", \"Deltona\", \"Denton\", \"Denver\", \"Des Moines\", \"Detroit\", \"Downey\", \"Duluth\", \"Durham\", \"El Monte\", \"El Paso\", \"Elizabeth\", \"Elk Grove\", \"Elkhart\", \"Erie\", \"Escondido\", \"Eugene\", \"Evansville\", \"Fairfield\", \"Fargo\", \"Fayetteville\", \"Fitchburg\", \"Flint\", \"Fontana\", \"Fort Collins\", \"Fort Lauderdale\", \"Fort Smith\", \"Fort Walton Beach\", \"Fort Wayne\", \"Fort Worth\", \"Frederick\", \"Fremont\", \"Fresno\", \"Fullerton\", \"Gainesville\", \"Garden Grove\", \"Garland\", \"Gastonia\", \"Gilbert\", \"Glendale\", \"Grand Prairie\", \"Grand Rapids\", \"Grayslake\", \"Green Bay\", \"GreenBay\", \"Greensboro\", \"Greenville\", \"Gulfport-Biloxi\", \"Hagerstown\", \"Hampton\", \"Harlingen\", \"Harrisburg\", \"Hartford\", \"Havre de Grace\", \"Hayward\", \"Hemet\", \"Henderson\", \"Hesperia\", \"Hialeah\", \"Hickory\", \"High Point\", \"Hollywood\", \"Honolulu\", \"Houma\", \"Houston\", \"Howell\", \"Huntington\", \"Huntington Beach\", \"Huntsville\", \"Independence\", \"Indianapolis\", \"Inglewood\", \"Irvine\", \"Irving\", \"Jackson\", \"Jacksonville\", \"Jefferson\", \"Jersey City\", \"Johnson City\", \"Joliet\", \"Kailua\", \"Kalamazoo\", \"Kaneohe\", \"Kansas City\", \"Kennewick\", \"Kenosha\", \"Killeen\", \"Kissimmee\", \"Knoxville\", \"Lacey\", \"Lafayette\", \"Lake Charles\", \"Lakeland\", \"Lakewood\", \"Lancaster\", \"Lansing\", \"Laredo\", \"Las Cruces\", \"Las Vegas\", \"Layton\", \"Leominster\", \"Lewisville\", \"Lexington\", \"Lincoln\", \"Little Rock\", \"Long Beach\", \"Lorain\", \"Los Angeles\", \"Louisville\", \"Lowell\", \"Lubbock\", \"Macon\", \"Madison\", \"Manchester\", \"Marina\", \"Marysville\", \"McAllen\", \"McHenry\", \"Medford\", \"Melbourne\", \"Memphis\", \"Merced\", \"Mesa\", \"Mesquite\", \"Miami\", \"Milwaukee\", \"Minneapolis\", \"Miramar\", \"Mission Viejo\", \"Mobile\", \"Modesto\", \"Monroe\", \"Monterey\", \"Montgomery\", \"Moreno Valley\", \"Murfreesboro\", \"Murrieta\", \"Muskegon\", \"Myrtle Beach\", \"Naperville\", \"Naples\", \"Nashua\", \"Nashville\", \"New Bedford\", \"New Haven\", \"New London\", \"New Orleans\", \"New York\", \"New York City\", \"Newark\", \"Newburgh\", \"Newport News\", \"Norfolk\", \"Normal\", \"Norman\", \"North Charleston\", \"North Las Vegas\", \"North Port\", \"Norwalk\", \"Norwich\", \"Oakland\", \"Ocala\", \"Oceanside\", \"Odessa\", \"Ogden\", \"Oklahoma City\", \"Olathe\", \"Olympia\", \"Omaha\", \"Ontario\", \"Orange\", \"Orem\", \"Orlando\", \"Overland Park\", \"Oxnard\", \"Palm Bay\", \"Palm Springs\", \"Palmdale\", \"Panama City\", \"Pasadena\", \"Paterson\", \"Pembroke Pines\", \"Pensacola\", \"Peoria\", \"Philadelphia\", \"Phoenix\", \"Pittsburgh\", \"Plano\", \"Pomona\", \"Pompano Beach\", \"Port Arthur\", \"Port Orange\", \"Port Saint Lucie\", \"Port St. Lucie\", \"Portland\", \"Portsmouth\", \"Poughkeepsie\", \"Providence\", \"Provo\", \"Pueblo\", \"Punta Gorda\", \"Racine\", \"Raleigh\", \"Rancho Cucamonga\", \"Reading\", \"Redding\", \"Reno\", \"Richland\", \"Richmond\", \"Richmond County\", \"Riverside\", \"Roanoke\", \"Rochester\", \"Rockford\", \"Roseville\", \"Round Lake Beach\", \"Sacramento\", \"Saginaw\", \"Saint Louis\", \"Saint Paul\", \"Saint Petersburg\", \"Salem\", \"Salinas\", \"Salt Lake City\", \"San Antonio\", \"San Bernardino\", \"San Buenaventura\", \"San Diego\", \"San Francisco\", \"San Jose\", \"Santa Ana\", \"Santa Barbara\", \"Santa Clara\", \"Santa Clarita\", \"Santa Cruz\", \"Santa Maria\", \"Santa Rosa\", \"Sarasota\", \"Savannah\", \"Scottsdale\", \"Scranton\", \"Seaside\", \"Seattle\", \"Sebastian\", \"Shreveport\", \"Simi Valley\", \"Sioux City\", \"Sioux Falls\", \"South Bend\", \"South Lyon\", \"Spartanburg\", \"Spokane\", \"Springdale\", \"Springfield\", \"St. Louis\", \"St. Paul\", \"St. Petersburg\", \"Stamford\", \"Sterling Heights\", \"Stockton\", \"Sunnyvale\", \"Syracuse\", \"Tacoma\", \"Tallahassee\", \"Tampa\", \"Temecula\", \"Tempe\", \"Thornton\", \"Thousand Oaks\", \"Toledo\", \"Topeka\", \"Torrance\", \"Trenton\", \"Tucson\", \"Tulsa\", \"Tuscaloosa\", \"Tyler\", \"Utica\", \"Vallejo\", \"Vancouver\", \"Vero Beach\", \"Victorville\", \"Virginia Beach\", \"Visalia\", \"Waco\", \"Warren\", \"Washington\", \"Waterbury\", \"Waterloo\", \"West Covina\", \"West Valley City\", \"Westminster\", \"Wichita\", \"Wilmington\", \"Winston\", \"Winter Haven\", \"Worcester\", \"Yakima\", \"Yonkers\", \"York\", \"Youngstown\"]"
      ],
      "metadata": {
        "id": "j9cp_ExufPmy"
      },
      "execution_count": null,
      "outputs": []
    },
    {
      "cell_type": "code",
      "source": [
        "def starts_with_vowel(city):\n",
        "  return city[0].upper() in ('A', 'E', 'I', 'O', 'U')"
      ],
      "metadata": {
        "id": "tmKyPJkbfZM5"
      },
      "execution_count": null,
      "outputs": []
    },
    {
      "cell_type": "code",
      "source": [
        "list(filter(starts_with_vowel, city_names))"
      ],
      "metadata": {
        "colab": {
          "base_uri": "https://localhost:8080/"
        },
        "id": "IvVTVViEgL6a",
        "outputId": "5013235b-8278-49ed-963a-920911035f92"
      },
      "execution_count": null,
      "outputs": [
        {
          "output_type": "execute_result",
          "data": {
            "text/plain": [
              "['Aberdeen',\n",
              " 'Abilene',\n",
              " 'Akron',\n",
              " 'Albany',\n",
              " 'Albuquerque',\n",
              " 'Alexandria',\n",
              " 'Allentown',\n",
              " 'Amarillo',\n",
              " 'Anaheim',\n",
              " 'Anchorage',\n",
              " 'Ann Arbor',\n",
              " 'Antioch',\n",
              " 'Apple Valley',\n",
              " 'Appleton',\n",
              " 'Arlington',\n",
              " 'Arvada',\n",
              " 'Asheville',\n",
              " 'Athens',\n",
              " 'Atlanta',\n",
              " 'Atlantic City',\n",
              " 'Augusta',\n",
              " 'Aurora',\n",
              " 'Austin',\n",
              " 'El Monte',\n",
              " 'El Paso',\n",
              " 'Elizabeth',\n",
              " 'Elk Grove',\n",
              " 'Elkhart',\n",
              " 'Erie',\n",
              " 'Escondido',\n",
              " 'Eugene',\n",
              " 'Evansville',\n",
              " 'Independence',\n",
              " 'Indianapolis',\n",
              " 'Inglewood',\n",
              " 'Irvine',\n",
              " 'Irving',\n",
              " 'Oakland',\n",
              " 'Ocala',\n",
              " 'Oceanside',\n",
              " 'Odessa',\n",
              " 'Ogden',\n",
              " 'Oklahoma City',\n",
              " 'Olathe',\n",
              " 'Olympia',\n",
              " 'Omaha',\n",
              " 'Ontario',\n",
              " 'Orange',\n",
              " 'Orem',\n",
              " 'Orlando',\n",
              " 'Overland Park',\n",
              " 'Oxnard',\n",
              " 'Utica']"
            ]
          },
          "metadata": {},
          "execution_count": 24
        }
      ]
    },
    {
      "cell_type": "code",
      "source": [
        "[ city for city in city_names if starts_with_vowel(city) ]"
      ],
      "metadata": {
        "colab": {
          "base_uri": "https://localhost:8080/"
        },
        "id": "VqEcjktvggQS",
        "outputId": "9a522a42-0970-46a3-c569-801640718162"
      },
      "execution_count": null,
      "outputs": [
        {
          "output_type": "execute_result",
          "data": {
            "text/plain": [
              "['Aberdeen',\n",
              " 'Abilene',\n",
              " 'Akron',\n",
              " 'Albany',\n",
              " 'Albuquerque',\n",
              " 'Alexandria',\n",
              " 'Allentown',\n",
              " 'Amarillo',\n",
              " 'Anaheim',\n",
              " 'Anchorage',\n",
              " 'Ann Arbor',\n",
              " 'Antioch',\n",
              " 'Apple Valley',\n",
              " 'Appleton',\n",
              " 'Arlington',\n",
              " 'Arvada',\n",
              " 'Asheville',\n",
              " 'Athens',\n",
              " 'Atlanta',\n",
              " 'Atlantic City',\n",
              " 'Augusta',\n",
              " 'Aurora',\n",
              " 'Austin',\n",
              " 'El Monte',\n",
              " 'El Paso',\n",
              " 'Elizabeth',\n",
              " 'Elk Grove',\n",
              " 'Elkhart',\n",
              " 'Erie',\n",
              " 'Escondido',\n",
              " 'Eugene',\n",
              " 'Evansville',\n",
              " 'Independence',\n",
              " 'Indianapolis',\n",
              " 'Inglewood',\n",
              " 'Irvine',\n",
              " 'Irving',\n",
              " 'Oakland',\n",
              " 'Ocala',\n",
              " 'Oceanside',\n",
              " 'Odessa',\n",
              " 'Ogden',\n",
              " 'Oklahoma City',\n",
              " 'Olathe',\n",
              " 'Olympia',\n",
              " 'Omaha',\n",
              " 'Ontario',\n",
              " 'Orange',\n",
              " 'Orem',\n",
              " 'Orlando',\n",
              " 'Overland Park',\n",
              " 'Oxnard',\n",
              " 'Utica']"
            ]
          },
          "metadata": {},
          "execution_count": 25
        }
      ]
    },
    {
      "cell_type": "code",
      "source": [
        "cities = []\n",
        "for city in city_names:\n",
        "  if starts_with_vowel(city) :\n",
        "    cities.append(city)\n",
        "\n",
        "cities"
      ],
      "metadata": {
        "colab": {
          "base_uri": "https://localhost:8080/"
        },
        "id": "FHrM5MHBgoBC",
        "outputId": "5473a86f-a830-4a18-9c60-feba15b10807"
      },
      "execution_count": null,
      "outputs": [
        {
          "output_type": "execute_result",
          "data": {
            "text/plain": [
              "['Aberdeen',\n",
              " 'Abilene',\n",
              " 'Akron',\n",
              " 'Albany',\n",
              " 'Albuquerque',\n",
              " 'Alexandria',\n",
              " 'Allentown',\n",
              " 'Amarillo',\n",
              " 'Anaheim',\n",
              " 'Anchorage',\n",
              " 'Ann Arbor',\n",
              " 'Antioch',\n",
              " 'Apple Valley',\n",
              " 'Appleton',\n",
              " 'Arlington',\n",
              " 'Arvada',\n",
              " 'Asheville',\n",
              " 'Athens',\n",
              " 'Atlanta',\n",
              " 'Atlantic City',\n",
              " 'Augusta',\n",
              " 'Aurora',\n",
              " 'Austin',\n",
              " 'El Monte',\n",
              " 'El Paso',\n",
              " 'Elizabeth',\n",
              " 'Elk Grove',\n",
              " 'Elkhart',\n",
              " 'Erie',\n",
              " 'Escondido',\n",
              " 'Eugene',\n",
              " 'Evansville',\n",
              " 'Independence',\n",
              " 'Indianapolis',\n",
              " 'Inglewood',\n",
              " 'Irvine',\n",
              " 'Irving',\n",
              " 'Oakland',\n",
              " 'Ocala',\n",
              " 'Oceanside',\n",
              " 'Odessa',\n",
              " 'Ogden',\n",
              " 'Oklahoma City',\n",
              " 'Olathe',\n",
              " 'Olympia',\n",
              " 'Omaha',\n",
              " 'Ontario',\n",
              " 'Orange',\n",
              " 'Orem',\n",
              " 'Orlando',\n",
              " 'Overland Park',\n",
              " 'Oxnard',\n",
              " 'Utica']"
            ]
          },
          "metadata": {},
          "execution_count": 26
        }
      ]
    }
  ]
}